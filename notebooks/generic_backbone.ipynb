{
 "cells": [
  {
   "cell_type": "code",
   "execution_count": null,
   "metadata": {},
   "outputs": [],
   "source": [
    "image_size = 1024\n",
    "max_epochs = 50"
   ]
  },
  {
   "cell_type": "code",
   "execution_count": null,
   "metadata": {},
   "outputs": [],
   "source": [
    "import flash\n",
    "from flash.core.data.utils import download_data\n",
    "from flash.image import ObjectDetectionData, ObjectDetector"
   ]
  },
  {
   "cell_type": "code",
   "execution_count": null,
   "metadata": {},
   "outputs": [],
   "source": [
    "#ObjectDetector.available_backbones()"
   ]
  },
  {
   "cell_type": "code",
   "execution_count": null,
   "metadata": {},
   "outputs": [],
   "source": [
    "datamodule = ObjectDetectionData.from_voc(\n",
    "                 [\"pothole\"],\n",
    "                 train_folder=\"./dashcam_public-5/train\",\n",
    "                 train_ann_folder=\"./dashcam_public-5/train\",\n",
    "                 val_folder=\"./dashcam_public-5/valid\",\n",
    "                 val_ann_folder=\"./dashcam_public-5/valid\",\n",
    "                 transform_kwargs=dict(image_size=image_size),\n",
    "                 batch_size=2,\n",
    "                 num_workers= 5\n",
    "             )"
   ]
  },
  {
   "cell_type": "code",
   "execution_count": null,
   "metadata": {},
   "outputs": [],
   "source": [
    "from pytorch_lightning.callbacks.early_stopping import EarlyStopping\n",
    "\n",
    "early_stop_callback = EarlyStopping(monitor=\"val_val_loss\", \n",
    "                                    min_delta=0.00,\n",
    "                                    patience=3, \n",
    "                                    verbose=False, \n",
    "                                    mode=\"min\")"
   ]
  },
  {
   "cell_type": "code",
   "execution_count": null,
   "metadata": {},
   "outputs": [],
   "source": [
    "import torch\n",
    "# 2. Build the task\n",
    "model = ObjectDetector(head=\"yolov5\", \n",
    "                       backbone=\"medium\", \n",
    "                       num_classes=datamodule.num_classes, \n",
    "                       image_size=image_size,\n",
    "                       optimizer=torch.optim.Adam,\n",
    "                       learning_rate = 1e-10\n",
    "                       )\n",
    "\n",
    "# 3. Create the trainer and finetune the model\n",
    "trainer = flash.Trainer(max_epochs=max_epochs, log_every_n_steps=10,  gpus=1)\n",
    "                       #callbacks=[early_stop_callback], gpus=1)\n",
    "trainer.finetune(model, datamodule=datamodule, strategy=\"freeze\")"
   ]
  },
  {
   "cell_type": "code",
   "execution_count": null,
   "metadata": {},
   "outputs": [],
   "source": [
    "# 4. Detect objects in a few images!\n",
    "from glob import glob\n",
    "\n",
    "datamodule_test = ObjectDetectionData.from_files(\n",
    "    predict_files= glob('./dashcam_public-5/test/*.jpg'),\n",
    "    transform_kwargs={\"image_size\": image_size},\n",
    "    batch_size=4,\n",
    ")\n",
    "predictions = trainer.predict(model, datamodule=datamodule_test)\n",
    "print(predictions)"
   ]
  },
  {
   "cell_type": "code",
   "execution_count": null,
   "metadata": {},
   "outputs": [],
   "source": []
  },
  {
   "cell_type": "code",
   "execution_count": null,
   "metadata": {},
   "outputs": [],
   "source": []
  }
 ],
 "metadata": {
  "interpreter": {
   "hash": "89ed4e4bd8c41b625272204d69f2044e31d63ca84a817d3db4227dce021c1047"
  },
  "kernelspec": {
   "display_name": "pytorch",
   "language": "python",
   "name": "pytorch"
  },
  "language_info": {
   "codemirror_mode": {
    "name": "ipython",
    "version": 3
   },
   "file_extension": ".py",
   "mimetype": "text/x-python",
   "name": "python",
   "nbconvert_exporter": "python",
   "pygments_lexer": "ipython3",
   "version": "3.8.10"
  }
 },
 "nbformat": 4,
 "nbformat_minor": 2
}
